{
 "cells": [
  {
   "cell_type": "markdown",
   "id": "22e9cefd",
   "metadata": {},
   "source": [
    "# Question 1:\n",
    "Let us say your expense for every month are listed below,\n",
    "January - 2200\n",
    "February - 2350\n",
    "March - 2600\n",
    "April - 2130\n",
    "May - 2190\n",
    "Create a list to store these monthly expenses and using that find out,"
   ]
  },
  {
   "cell_type": "code",
   "execution_count": 1,
   "id": "7baa9131",
   "metadata": {},
   "outputs": [],
   "source": [
    "expense = [{'January': 2200},\n",
    "           {'February': 2350},\n",
    "           {'March': 2600},\n",
    "           {'April': 2130},\n",
    "           {'May': 2190}]"
   ]
  },
  {
   "cell_type": "code",
   "execution_count": null,
   "id": "36a50405",
   "metadata": {},
   "outputs": [],
   "source": [
    "expense = [{'January': 2200,\n",
    "           'February': 2350,\n",
    "           'March': 2600,\n",
    "           'April': 2130,\n",
    "           'May': 2190}"
   ]
  },
  {
   "cell_type": "markdown",
   "id": "703e9951",
   "metadata": {},
   "source": [
    "### 1. In Feb, how many dollars you spent extra compare to January?"
   ]
  },
  {
   "cell_type": "code",
   "execution_count": 18,
   "id": "b98655a0",
   "metadata": {},
   "outputs": [],
   "source": [
    "Jan_expense = expense[0].get('January')\n",
    "Feb_expense = expense[1].get('February')\n",
    "Mar_expense = expense[2].get('March')"
   ]
  },
  {
   "cell_type": "code",
   "execution_count": 21,
   "id": "3cee120f",
   "metadata": {},
   "outputs": [
    {
     "name": "stdout",
     "output_type": "stream",
     "text": [
      "Extra spending is 150 dollars.\n"
     ]
    }
   ],
   "source": [
    "extra = Feb_expense - Jan_expense\n",
    "print(f'Extra spending is {extra} dollars.')"
   ]
  },
  {
   "cell_type": "markdown",
   "id": "74d0e172",
   "metadata": {},
   "source": [
    "### 2. Find out your total expense in first quarter (first three months) of the year."
   ]
  },
  {
   "cell_type": "code",
   "execution_count": 22,
   "id": "8f9e1f7f",
   "metadata": {},
   "outputs": [
    {
     "name": "stdout",
     "output_type": "stream",
     "text": [
      "Quarterly expense is 7150 dollars\n"
     ]
    }
   ],
   "source": [
    "quarter = Jan_expense + Feb_expense + Mar_expense\n",
    "print(f'Quarterly expense is {quarter} dollars')"
   ]
  },
  {
   "cell_type": "markdown",
   "id": "f4bd09ac",
   "metadata": {},
   "source": [
    "### 3. Find out if you spent exactly 2000 dollars in any month"
   ]
  },
  {
   "cell_type": "code",
   "execution_count": 32,
   "id": "691fde7d",
   "metadata": {},
   "outputs": [],
   "source": [
    "# [i for i in expense if expense[i].values() == 2000 return True]"
   ]
  },
  {
   "cell_type": "code",
   "execution_count": 31,
   "id": "023276ca",
   "metadata": {},
   "outputs": [
    {
     "name": "stdout",
     "output_type": "stream",
     "text": [
      "False\n",
      "False\n",
      "False\n",
      "False\n",
      "False\n"
     ]
    }
   ],
   "source": [
    "for i in expense:\n",
    "    for value in i.values():\n",
    "        if value == 2000:\n",
    "            print(\"True\")\n",
    "        else:\n",
    "            print('False')"
   ]
  },
  {
   "cell_type": "markdown",
   "id": "36a75ab1",
   "metadata": {},
   "source": [
    "### 4. June month just finished and your expense is 1980 dollar. Add this item to our monthly expense list"
   ]
  },
  {
   "cell_type": "code",
   "execution_count": 33,
   "id": "b8cc0a53",
   "metadata": {},
   "outputs": [
    {
     "data": {
      "text/plain": [
       "[{'January': 2200},\n",
       " {'February': 2350},\n",
       " {'March': 2600},\n",
       " {'April': 2130},\n",
       " {'May': 2190},\n",
       " {'June': 1980}]"
      ]
     },
     "execution_count": 33,
     "metadata": {},
     "output_type": "execute_result"
    }
   ],
   "source": [
    "expense.append({'June': 1980})\n",
    "expense"
   ]
  },
  {
   "cell_type": "markdown",
   "id": "a1b860cc",
   "metadata": {},
   "source": [
    "### 5. You returned an item that you bought in a month of April and got a refund of 200 dollars. Make a correction to your monthly expense list based on this"
   ]
  },
  {
   "cell_type": "code",
   "execution_count": 34,
   "id": "521acb0d",
   "metadata": {},
   "outputs": [
    {
     "data": {
      "text/plain": [
       "{'April': 2130}"
      ]
     },
     "execution_count": 34,
     "metadata": {},
     "output_type": "execute_result"
    }
   ],
   "source": [
    "expense[3]"
   ]
  },
  {
   "cell_type": "code",
   "execution_count": 35,
   "id": "f34d9ce1",
   "metadata": {},
   "outputs": [],
   "source": [
    "expense[3] = {'April': 1930}"
   ]
  },
  {
   "cell_type": "code",
   "execution_count": 36,
   "id": "3a2d937e",
   "metadata": {},
   "outputs": [
    {
     "data": {
      "text/plain": [
       "[{'January': 2200},\n",
       " {'February': 2350},\n",
       " {'March': 2600},\n",
       " {'April': 1930},\n",
       " {'May': 2190},\n",
       " {'June': 1980}]"
      ]
     },
     "execution_count": 36,
     "metadata": {},
     "output_type": "execute_result"
    }
   ],
   "source": [
    "expense"
   ]
  },
  {
   "cell_type": "markdown",
   "id": "aec9e125",
   "metadata": {},
   "source": [
    "# Question 2: You have a list of your favourite marvel super heros.\n"
   ]
  },
  {
   "cell_type": "code",
   "execution_count": 37,
   "id": "e4c963f8",
   "metadata": {},
   "outputs": [],
   "source": [
    "heros=['spider man','thor','hulk','iron man','captain america']"
   ]
  },
  {
   "cell_type": "markdown",
   "id": "a01ff0fc",
   "metadata": {},
   "source": [
    "### 1. Length of the list"
   ]
  },
  {
   "cell_type": "code",
   "execution_count": 38,
   "id": "098ebd15",
   "metadata": {},
   "outputs": [
    {
     "data": {
      "text/plain": [
       "5"
      ]
     },
     "execution_count": 38,
     "metadata": {},
     "output_type": "execute_result"
    }
   ],
   "source": [
    "len(heros)"
   ]
  },
  {
   "cell_type": "markdown",
   "id": "f0275315",
   "metadata": {},
   "source": [
    "### 2. Add 'black panther' at the end of this list\n"
   ]
  },
  {
   "cell_type": "code",
   "execution_count": 39,
   "id": "a20793bf",
   "metadata": {},
   "outputs": [
    {
     "data": {
      "text/plain": [
       "['spider man', 'thor', 'hulk', 'iron man', 'captain america', 'black panther']"
      ]
     },
     "execution_count": 39,
     "metadata": {},
     "output_type": "execute_result"
    }
   ],
   "source": [
    "heros.append('black panther')\n",
    "heros"
   ]
  },
  {
   "cell_type": "markdown",
   "id": "2d6f2f94",
   "metadata": {},
   "source": [
    "###  3. You realize that you need to add 'black panther' after 'hulk', so remove it from the list first and then add it after 'hulk'"
   ]
  },
  {
   "cell_type": "code",
   "execution_count": 40,
   "id": "cdea9546",
   "metadata": {},
   "outputs": [
    {
     "data": {
      "text/plain": [
       "['spider man', 'thor', 'hulk', 'black panther', 'iron man', 'captain america']"
      ]
     },
     "execution_count": 40,
     "metadata": {},
     "output_type": "execute_result"
    }
   ],
   "source": [
    "heros.remove('black panther')\n",
    "heros.insert(3, 'black panther')\n",
    "heros"
   ]
  },
  {
   "cell_type": "markdown",
   "id": "c89f8906",
   "metadata": {},
   "source": [
    "### 4. Now you don't like thor and hulk because they get angry easily :) So you want to remove thor and hulk from list and replace them with doctor strange (because he is cool). Do that with one line of code."
   ]
  },
  {
   "cell_type": "code",
   "execution_count": 44,
   "id": "81eb485a",
   "metadata": {},
   "outputs": [
    {
     "data": {
      "text/plain": [
       "['spider man',\n",
       " 'doctor strange',\n",
       " 'black panther',\n",
       " 'iron man',\n",
       " 'captain america']"
      ]
     },
     "execution_count": 44,
     "metadata": {},
     "output_type": "execute_result"
    }
   ],
   "source": [
    "heros[1] = 'doctor strange'\n",
    "heros\n",
    "# how did this happen?"
   ]
  },
  {
   "cell_type": "markdown",
   "id": "bc5e1ee6",
   "metadata": {},
   "source": [
    "### 5. Sort the heros list in alphabetical order (Hint. Use dir() functions to list down all functions available in list)\n"
   ]
  },
  {
   "cell_type": "code",
   "execution_count": 45,
   "id": "d01b2b6c",
   "metadata": {},
   "outputs": [
    {
     "data": {
      "text/plain": [
       "['black panther',\n",
       " 'captain america',\n",
       " 'doctor strange',\n",
       " 'iron man',\n",
       " 'spider man']"
      ]
     },
     "execution_count": 45,
     "metadata": {},
     "output_type": "execute_result"
    }
   ],
   "source": [
    "heros.sort()\n",
    "heros"
   ]
  },
  {
   "cell_type": "markdown",
   "id": "886abfea",
   "metadata": {},
   "source": [
    "# Question 3: Create a list of all odd numbers between 1 and a max number. Max number is something you need to take from a user using input() function"
   ]
  },
  {
   "cell_type": "code",
   "execution_count": 52,
   "id": "d3fd6a80",
   "metadata": {},
   "outputs": [
    {
     "name": "stdout",
     "output_type": "stream",
     "text": [
      "Enter a max number: 69\n",
      "[1, 3, 5, 7, 9, 11, 13, 15, 17, 19, 21, 23, 25, 27, 29, 31, 33, 35, 37, 39, 41, 43, 45, 47, 49, 51, 53, 55, 57, 59, 61, 63, 65, 67, 69]\n"
     ]
    }
   ],
   "source": [
    "max_num = int(input('Enter a max number: '))\n",
    "odd_nums = []\n",
    "for i in range(1, max_num+1):\n",
    "    if i%2 != 0:\n",
    "        odd_nums.append(i)\n",
    "print(odd_nums)"
   ]
  },
  {
   "cell_type": "code",
   "execution_count": null,
   "id": "f8e23111",
   "metadata": {},
   "outputs": [],
   "source": []
  }
 ],
 "metadata": {
  "kernelspec": {
   "display_name": "Python 3 (ipykernel)",
   "language": "python",
   "name": "python3"
  },
  "language_info": {
   "codemirror_mode": {
    "name": "ipython",
    "version": 3
   },
   "file_extension": ".py",
   "mimetype": "text/x-python",
   "name": "python",
   "nbconvert_exporter": "python",
   "pygments_lexer": "ipython3",
   "version": "3.9.12"
  }
 },
 "nbformat": 4,
 "nbformat_minor": 5
}
