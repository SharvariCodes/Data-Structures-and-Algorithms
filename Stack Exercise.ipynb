{
 "cells": [
  {
   "cell_type": "markdown",
   "id": "37dbd422",
   "metadata": {},
   "source": [
    "## Question 1:\n",
    "\n",
    "### Write a function in python that can reverse a string using stack data structure. Use Stack class from the tutorial"
   ]
  },
  {
   "cell_type": "markdown",
   "id": "bb0cb795",
   "metadata": {},
   "source": [
    "reverse_string(\"We will conquere COVID-19\") should return \"91-DIVOC ereuqnoc lliw eW\""
   ]
  },
  {
   "cell_type": "code",
   "execution_count": 1,
   "id": "a8f01ace",
   "metadata": {},
   "outputs": [],
   "source": [
    "from collections import deque"
   ]
  },
  {
   "cell_type": "code",
   "execution_count": 3,
   "id": "13cf0f03",
   "metadata": {},
   "outputs": [],
   "source": [
    "class Stack:\n",
    "    def __init__(self):\n",
    "        self.container = deque()\n",
    "        \n",
    "    def push(self, val):\n",
    "        self.container.append(val)\n",
    "        \n",
    "    def pop(self):\n",
    "        return self.container.pop()\n",
    "    \n",
    "    def peek(self):\n",
    "        return self.container[-1]\n",
    "    \n",
    "    def is_empty(self):\n",
    "        return len(self.container)==0\n",
    "    \n",
    "    def size(self):\n",
    "        return len(self.container)\n",
    "    \n",
    "    def reverse_string(self, string):\n",
    "        return string[::-1]"
   ]
  },
  {
   "cell_type": "code",
   "execution_count": 4,
   "id": "6aa3e8e0",
   "metadata": {},
   "outputs": [],
   "source": [
    "s = Stack()"
   ]
  },
  {
   "cell_type": "code",
   "execution_count": 5,
   "id": "e3166316",
   "metadata": {},
   "outputs": [
    {
     "data": {
      "text/plain": [
       "'91-DIVOC ereuqnoc lliw eW'"
      ]
     },
     "execution_count": 5,
     "metadata": {},
     "output_type": "execute_result"
    }
   ],
   "source": [
    "s.reverse_string(\"We will conquere COVID-19\")"
   ]
  },
  {
   "cell_type": "markdown",
   "id": "ecd4fd42",
   "metadata": {},
   "source": [
    "### Using stack operations for string reversal"
   ]
  },
  {
   "cell_type": "code",
   "execution_count": 7,
   "id": "f630bfc3",
   "metadata": {},
   "outputs": [],
   "source": [
    "def reverse_string(s):\n",
    "    stack = Stack()\n",
    "    \n",
    "    for ch in s:\n",
    "        stack.push(ch)\n",
    "        \n",
    "    rstr=''\n",
    "    while stack.size() != 0:\n",
    "        rstr += stack.pop()\n",
    "        \n",
    "    return rstr"
   ]
  },
  {
   "cell_type": "markdown",
   "id": "b5df0172",
   "metadata": {},
   "source": [
    "## Question 2:\n",
    "\n",
    "### Write a function in python that checks if paranthesis in the string are balanced or not. Possible parantheses are \"{}',\"()\" or \"[]\". Use Stack class from the tutorial."
   ]
  },
  {
   "cell_type": "markdown",
   "id": "650bcb68",
   "metadata": {},
   "source": [
    "is_balanced(\"({a+b})\")     --> True\n",
    "is_balanced(\"))((a+b}{\")   --> False\n",
    "is_balanced(\"((a+b))\")     --> True\n",
    "is_balanced(\"))\")          --> False\n",
    "is_balanced(\"[a+b]*(x+2y)*{gg+kk}\") --> True"
   ]
  },
  {
   "cell_type": "code",
   "execution_count": 8,
   "id": "6d38d11b",
   "metadata": {},
   "outputs": [],
   "source": [
    "def is_match(ch1, ch2):\n",
    "    stack = Stack()\n",
    "    match_dict = {\n",
    "        ')':'(',\n",
    "        ']':'[',\n",
    "        '}':'{'\n",
    "    }\n",
    "    return match_dict[ch1]==ch2"
   ]
  },
  {
   "cell_type": "code",
   "execution_count": 9,
   "id": "9b4df45b",
   "metadata": {},
   "outputs": [],
   "source": [
    "def is_balanced(s):\n",
    "    stack = Stack()\n",
    "    for ch in s:\n",
    "        if ch == '(' or ch == '[' or ch == '{':\n",
    "            stack.push(ch)\n",
    "        if ch == ')' or ch == ']' or ch == '}':\n",
    "            if stack.size()==0:\n",
    "                return False\n",
    "            if not is_match(ch, stack.pop()):\n",
    "                return False\n",
    "    return stack.size()==0"
   ]
  },
  {
   "cell_type": "code",
   "execution_count": 10,
   "id": "83fd6292",
   "metadata": {},
   "outputs": [
    {
     "name": "stdout",
     "output_type": "stream",
     "text": [
      "True\n",
      "False\n",
      "True\n",
      "True\n",
      "False\n",
      "True\n"
     ]
    }
   ],
   "source": [
    "print(is_balanced(\"({a+b})\"))\n",
    "print(is_balanced(\"))((a+b}{\"))\n",
    "print(is_balanced(\"((a+b))\"))\n",
    "print(is_balanced(\"((a+g))\"))\n",
    "print(is_balanced(\"))\"))\n",
    "print(is_balanced(\"[a+b]*(x+2y)*{gg+kk}\"))"
   ]
  },
  {
   "cell_type": "code",
   "execution_count": null,
   "id": "3e85ed60",
   "metadata": {},
   "outputs": [],
   "source": []
  }
 ],
 "metadata": {
  "kernelspec": {
   "display_name": "Python 3 (ipykernel)",
   "language": "python",
   "name": "python3"
  },
  "language_info": {
   "codemirror_mode": {
    "name": "ipython",
    "version": 3
   },
   "file_extension": ".py",
   "mimetype": "text/x-python",
   "name": "python",
   "nbconvert_exporter": "python",
   "pygments_lexer": "ipython3",
   "version": "3.9.12"
  }
 },
 "nbformat": 4,
 "nbformat_minor": 5
}
