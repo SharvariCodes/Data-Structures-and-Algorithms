{
 "cells": [
  {
   "cell_type": "markdown",
   "id": "598072b4",
   "metadata": {},
   "source": [
    "# Implemention in Python"
   ]
  },
  {
   "cell_type": "code",
   "execution_count": 1,
   "id": "0a280f82",
   "metadata": {},
   "outputs": [],
   "source": [
    "\"\"\"\n",
    "the first class is the node class, which represents all the individual elements in the linkedlist.\n",
    "It has two class members, one is data and the second is next_ which is a pointer to the next \n",
    "element. The pointer stores the address of the next node.\n",
    "\"\"\"\n",
    "class Node:\n",
    "    def __init__(self, data=None, next_=None):\n",
    "        self.data = data\n",
    "        self.next_ = next_"
   ]
  },
  {
   "cell_type": "code",
   "execution_count": 47,
   "id": "c15f6aa7",
   "metadata": {},
   "outputs": [],
   "source": [
    "\"\"\"\n",
    "The second class is a linked list class where you need a head variable which points to the head\n",
    "of the linked list.\n",
    "\n",
    "* insert_at_beginning-It is taking data value and inserting that at the beginning of the linked \n",
    "                      list. We create a Node() with value data and the next_ will be the head, as\n",
    "                      when we insert a node in at the very beginning of a linked list, the \n",
    "                      previous head will become the next pointer for the first element inserted\n",
    "                      at the beginning of the linked list. Then we update the new node as the head\n",
    "                      node of the linked list.\n",
    "* print_linked_list- Utility function for testing.\n",
    "\"\"\"\n",
    "class LinkedList:\n",
    "    def __init__(self):\n",
    "        self.head = None\n",
    "    \n",
    "    def insert_at_beginning(self, data):\n",
    "        node = Node(data, self.head)\n",
    "        self.head = node\n",
    "        \n",
    "    def insert_at_end(self, data):\n",
    "        if self.head is None:\n",
    "            self.head = Node(data, None)\n",
    "            return\n",
    "        itr = self.head\n",
    "        while itr.next_:\n",
    "            itr = itr.next_\n",
    "        itr.next_= Node(data, None)\n",
    "        \n",
    "    def insert_values(self, data_list):\n",
    "        self.head = None\n",
    "        for data in data_list:\n",
    "            self.insert_at_end(data)\n",
    "            \n",
    "    def get_length(self):\n",
    "        count=0\n",
    "        itr = self.head\n",
    "        while itr:\n",
    "            count += 1\n",
    "            itr = itr.next_\n",
    "        return count\n",
    "    \n",
    "    def remove_at(self, index):\n",
    "        if index<0 or index>=self.get_length():\n",
    "            print(\"Exception: Invalid Index\")\n",
    "        if index == 0:\n",
    "            self.head = self.head.next_\n",
    "        count = 0\n",
    "        itr = self.head\n",
    "        while itr:\n",
    "            if count == index - 1:\n",
    "                itr.next_ = itr.next_.next_\n",
    "                break\n",
    "            itr = itr.next_\n",
    "            count=count+1\n",
    "            \n",
    "    def insert_at(self, index, data):\n",
    "        if index<0 or index>self.get_length():\n",
    "            print(\"Exception: Invalid Index\")    \n",
    "        if index==0:\n",
    "            self.insert_at_beginning(data)\n",
    "            return\n",
    "        count = 0\n",
    "        itr = self.head\n",
    "        while itr:\n",
    "            if count == index-1:\n",
    "                node = Node(data, itr.next_)\n",
    "                itr.next_= node\n",
    "                break     \n",
    "            itr= itr.next_\n",
    "            count=count+1\n",
    "              \n",
    "    def print_linked_list(self):\n",
    "        if self.head is None:\n",
    "            print(\"Empty linked list\")\n",
    "            return\n",
    "        itr = self.head\n",
    "        llstr = ''\n",
    "        while itr:\n",
    "            llstr += str(itr.data) + '---->'\n",
    "            itr = itr.next_\n",
    "        print(llstr)\n",
    "    \n",
    "        "
   ]
  },
  {
   "cell_type": "code",
   "execution_count": 48,
   "id": "1c61c6c2",
   "metadata": {},
   "outputs": [],
   "source": [
    "ll = LinkedList()"
   ]
  },
  {
   "cell_type": "code",
   "execution_count": 9,
   "id": "ccc7b14f",
   "metadata": {},
   "outputs": [],
   "source": [
    "ll.insert_at_beginning(9)\n",
    "ll.insert_at_beginning(8)"
   ]
  },
  {
   "cell_type": "code",
   "execution_count": 5,
   "id": "1206012a",
   "metadata": {},
   "outputs": [
    {
     "name": "stdout",
     "output_type": "stream",
     "text": [
      "8---->9---->\n"
     ]
    }
   ],
   "source": [
    "ll.print_linked_list()"
   ]
  },
  {
   "cell_type": "code",
   "execution_count": 10,
   "id": "4d344ce4",
   "metadata": {},
   "outputs": [],
   "source": [
    " ll.insert_at_end(10)"
   ]
  },
  {
   "cell_type": "code",
   "execution_count": 39,
   "id": "9ef4c9e4",
   "metadata": {},
   "outputs": [
    {
     "name": "stdout",
     "output_type": "stream",
     "text": [
      "Empty linked list\n"
     ]
    }
   ],
   "source": [
    "ll.print_linked_list()"
   ]
  },
  {
   "cell_type": "code",
   "execution_count": 49,
   "id": "71166d47",
   "metadata": {},
   "outputs": [],
   "source": [
    "ll.insert_values(['banana','mango', 'orange','grapes'])"
   ]
  },
  {
   "cell_type": "code",
   "execution_count": 28,
   "id": "70f34746",
   "metadata": {},
   "outputs": [],
   "source": [
    "ll.remove_at(1)"
   ]
  },
  {
   "cell_type": "code",
   "execution_count": 29,
   "id": "84aface7",
   "metadata": {},
   "outputs": [
    {
     "name": "stdout",
     "output_type": "stream",
     "text": [
      "banana---->orange---->grapes---->\n"
     ]
    }
   ],
   "source": [
    "ll.print_linked_list()"
   ]
  },
  {
   "cell_type": "code",
   "execution_count": 52,
   "id": "a0302fd9",
   "metadata": {},
   "outputs": [],
   "source": [
    "ll.insert_at(0,'figs')"
   ]
  },
  {
   "cell_type": "code",
   "execution_count": 42,
   "id": "8c36005a",
   "metadata": {},
   "outputs": [
    {
     "name": "stdout",
     "output_type": "stream",
     "text": [
      "figs---->banana---->mango---->orange---->grapes---->\n"
     ]
    }
   ],
   "source": [
    "ll.print_linked_list()"
   ]
  },
  {
   "cell_type": "code",
   "execution_count": 50,
   "id": "12c2a19a",
   "metadata": {},
   "outputs": [],
   "source": [
    "ll.insert_at(2,'jackfruit')"
   ]
  },
  {
   "cell_type": "code",
   "execution_count": 53,
   "id": "e318c0d5",
   "metadata": {},
   "outputs": [
    {
     "name": "stdout",
     "output_type": "stream",
     "text": [
      "figs---->banana---->mango---->jackfruit---->orange---->grapes---->\n"
     ]
    }
   ],
   "source": [
    "ll.print_linked_list()"
   ]
  },
  {
   "cell_type": "code",
   "execution_count": null,
   "id": "1ec37fae",
   "metadata": {},
   "outputs": [],
   "source": []
  }
 ],
 "metadata": {
  "kernelspec": {
   "display_name": "Python 3 (ipykernel)",
   "language": "python",
   "name": "python3"
  },
  "language_info": {
   "codemirror_mode": {
    "name": "ipython",
    "version": 3
   },
   "file_extension": ".py",
   "mimetype": "text/x-python",
   "name": "python",
   "nbconvert_exporter": "python",
   "pygments_lexer": "ipython3",
   "version": "3.9.12"
  }
 },
 "nbformat": 4,
 "nbformat_minor": 5
}
