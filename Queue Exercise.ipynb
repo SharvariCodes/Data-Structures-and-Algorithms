{
 "cells": [
  {
   "cell_type": "markdown",
   "id": "54290c0a",
   "metadata": {},
   "source": [
    "## Question 1:\n",
    "\n",
    "### Design a food ordering system where your python program will run two threads,\n",
    "\n",
    "### Place Order: This thread will be placing an order and inserting that into a queue. This thread places new order every 0.5 second. (hint: use time.sleep(0.5) function)\n",
    "### Serve Order: This thread will server the order. All you need to do is pop the order out of the queue and print it. This thread serves an order every 2 seconds. Also start this thread 1 second after place order thread is started.\n",
    "\n",
    "Pass following list as an argument to place order thread,"
   ]
  },
  {
   "cell_type": "markdown",
   "id": "ded74203",
   "metadata": {},
   "source": [
    "orders = ['pizza','samosa','pasta','biryani','burger']"
   ]
  },
  {
   "cell_type": "markdown",
   "id": "b2203227",
   "metadata": {},
   "source": [
    "This problem is a producer,consumer problem where place_order thread is producing orders whereas server_order thread is consuming the food orders. Use Queue class implemented in a video tutorial."
   ]
  },
  {
   "cell_type": "code",
   "execution_count": 10,
   "id": "59809a11",
   "metadata": {},
   "outputs": [],
   "source": [
    "from collections import deque\n",
    "import time\n",
    "import threading"
   ]
  },
  {
   "cell_type": "code",
   "execution_count": 4,
   "id": "9900c775",
   "metadata": {},
   "outputs": [],
   "source": [
    "class Queue:\n",
    "    \n",
    "    def __init__(self):\n",
    "        self.buffer  = deque()\n",
    "    \n",
    "    def enqueue(self, val):\n",
    "        self.buffer.appendleft(val)\n",
    "        \n",
    "    def dequeue(self):\n",
    "        return self.buffer.pop()\n",
    "    \n",
    "    def is_empty(self):\n",
    "        return len(self.buffer)==0\n",
    "    \n",
    "    def size(self):\n",
    "        return len(self.buffer)"
   ]
  },
  {
   "cell_type": "code",
   "execution_count": 5,
   "id": "dd54b65f",
   "metadata": {},
   "outputs": [],
   "source": [
    "food_order = Queue()"
   ]
  },
  {
   "cell_type": "code",
   "execution_count": 12,
   "id": "c75b43f3",
   "metadata": {},
   "outputs": [],
   "source": [
    "def place_orders(orders):\n",
    "    for order in orders:\n",
    "        print(\"Placing order for: \",order)\n",
    "        food_order.enqueue(order)\n",
    "        time.sleep(0.5)"
   ]
  },
  {
   "cell_type": "code",
   "execution_count": 13,
   "id": "13c38d1f",
   "metadata": {},
   "outputs": [],
   "source": [
    "def serve_orders():\n",
    "    time.sleep(1)\n",
    "    while True:\n",
    "        order = food_order.dequeue()\n",
    "        print(\"Serving : \",order)\n",
    "        time.sleep(2)"
   ]
  },
  {
   "cell_type": "code",
   "execution_count": 14,
   "id": "f5bfe9ee",
   "metadata": {},
   "outputs": [],
   "source": [
    "orders = ['pizza','samosa','pasta','biryani','burger']\n",
    "t1 = threading.Thread(target=place_orders, args=(orders,))\n",
    "t2 = threading.Thread(target=serve_orders)"
   ]
  },
  {
   "cell_type": "code",
   "execution_count": 15,
   "id": "cb37856a",
   "metadata": {},
   "outputs": [
    {
     "name": "stdout",
     "output_type": "stream",
     "text": [
      "Placing order for:  pizza\n",
      "Placing order for:  samosa\n",
      "Placing order for: Serving :  pasta\n",
      " pizza\n",
      "Placing order for:  biryani\n",
      "Placing order for:  burger\n",
      "Serving :  samosa\n",
      "Serving :  pasta\n",
      "Serving :  biryani\n",
      "Serving :  burger\n"
     ]
    },
    {
     "name": "stderr",
     "output_type": "stream",
     "text": [
      "Exception in thread Thread-6:\n",
      "Traceback (most recent call last):\n",
      "  File \"C:\\Users\\hp\\anaconda3\\lib\\threading.py\", line 973, in _bootstrap_inner\n",
      "    self.run()\n",
      "  File \"C:\\Users\\hp\\anaconda3\\lib\\threading.py\", line 910, in run\n",
      "    self._target(*self._args, **self._kwargs)\n",
      "  File \"C:\\Users\\hp\\AppData\\Local\\Temp\\ipykernel_30140\\760717654.py\", line 4, in serve_orders\n",
      "  File \"C:\\Users\\hp\\AppData\\Local\\Temp\\ipykernel_30140\\4044423955.py\", line 10, in dequeue\n",
      "IndexError: pop from an empty deque\n"
     ]
    }
   ],
   "source": [
    "t1.start()\n",
    "t2.start()"
   ]
  },
  {
   "cell_type": "markdown",
   "id": "21d37482",
   "metadata": {},
   "source": [
    "## Question 2:\n",
    "\n",
    "### Write a program to print binary numbers from 1 to 10 using Queue. Use Queue class implemented in main tutorial. Binary sequence should look like,"
   ]
  },
  {
   "cell_type": "code",
   "execution_count": 16,
   "id": "8f5cb01a",
   "metadata": {},
   "outputs": [
    {
     "data": {
      "text/plain": [
       "1010"
      ]
     },
     "execution_count": 16,
     "metadata": {},
     "output_type": "execute_result"
    }
   ],
   "source": [
    "    1\n",
    "    10\n",
    "    11\n",
    "    100\n",
    "    101\n",
    "    110\n",
    "    111\n",
    "    1000\n",
    "    1001\n",
    "    1010"
   ]
  },
  {
   "cell_type": "markdown",
   "id": "7cbf5347",
   "metadata": {},
   "source": [
    "Hint: Notice a pattern above. After 1 second and third number is 1+0 and 1+1. 4th and 5th number are second number (i.e. 10) + 0 and second number (i.e. 10) + 1.\n",
    "\n",
    "You also need to add front() function in queue class that can return the front element in the queue."
   ]
  },
  {
   "cell_type": "code",
   "execution_count": 17,
   "id": "eb119c49",
   "metadata": {},
   "outputs": [],
   "source": [
    "class Queue:\n",
    "    \n",
    "    def __init__(self):\n",
    "        self.buffer  = deque()\n",
    "    \n",
    "    def enqueue(self, val):\n",
    "        self.buffer.appendleft(val)\n",
    "        \n",
    "    def dequeue(self):\n",
    "        return self.buffer.pop()\n",
    "    \n",
    "    def is_empty(self):\n",
    "        return len(self.buffer)==0\n",
    "    \n",
    "    def size(self):\n",
    "        return len(self.buffer)\n",
    "    \n",
    "#     adding front() function\n",
    "    def front(self):\n",
    "        return self.buffer[-1]"
   ]
  },
  {
   "cell_type": "code",
   "execution_count": 20,
   "id": "15f3bd55",
   "metadata": {},
   "outputs": [],
   "source": [
    "def binary_numbers(n):\n",
    "    numbers = Queue()\n",
    "    numbers.enqueue('1')\n",
    "    \n",
    "    for i in range(n):\n",
    "        front = numbers.front()\n",
    "        print(\"  \", front)\n",
    "        numbers.enqueue(front + \"0\")\n",
    "        numbers.enqueue(front + \"1\")\n",
    "        \n",
    "        numbers.dequeue()"
   ]
  },
  {
   "cell_type": "code",
   "execution_count": 21,
   "id": "f0e87db8",
   "metadata": {},
   "outputs": [
    {
     "name": "stdout",
     "output_type": "stream",
     "text": [
      "   1\n",
      "   10\n",
      "   11\n",
      "   100\n",
      "   101\n",
      "   110\n",
      "   111\n",
      "   1000\n",
      "   1001\n",
      "   1010\n"
     ]
    }
   ],
   "source": [
    "binary_numbers(10)"
   ]
  },
  {
   "cell_type": "code",
   "execution_count": null,
   "id": "eb87714b",
   "metadata": {},
   "outputs": [],
   "source": []
  }
 ],
 "metadata": {
  "kernelspec": {
   "display_name": "Python 3 (ipykernel)",
   "language": "python",
   "name": "python3"
  },
  "language_info": {
   "codemirror_mode": {
    "name": "ipython",
    "version": 3
   },
   "file_extension": ".py",
   "mimetype": "text/x-python",
   "name": "python",
   "nbconvert_exporter": "python",
   "pygments_lexer": "ipython3",
   "version": "3.9.12"
  }
 },
 "nbformat": 4,
 "nbformat_minor": 5
}
