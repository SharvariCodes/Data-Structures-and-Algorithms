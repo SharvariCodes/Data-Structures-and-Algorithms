{
 "cells": [
  {
   "cell_type": "markdown",
   "id": "9692a733",
   "metadata": {},
   "source": [
    "## Implementation of Hash Table"
   ]
  },
  {
   "cell_type": "code",
   "execution_count": 1,
   "id": "d6580a68",
   "metadata": {},
   "outputs": [],
   "source": [
    "# writing a hash function\n",
    "def get_hash(key):\n",
    "    h = 0\n",
    "    for char in key:\n",
    "        h += ord(char) # ord gives ascii value for the chars in the key string\n",
    "    return h % 100"
   ]
  },
  {
   "cell_type": "code",
   "execution_count": 8,
   "id": "59217f46",
   "metadata": {},
   "outputs": [],
   "source": [
    "# hashtable implementation using OOP\n",
    "class HashTable:\n",
    "    def __init__(self):\n",
    "        self.MAX = 100\n",
    "        self.arr = [None for i in range(self.MAX)]\n",
    "        \n",
    "    def get_hash(self, key):\n",
    "        h = 0\n",
    "        for char in key:\n",
    "            h += ord(char) # ord gives ascii value for the chars in the key string\n",
    "        return h % self.MAX\n",
    "        \n",
    "    def add(self, key, val):\n",
    "        h = self.get_hash(key)\n",
    "        self.arr[h] = val\n",
    "        \n",
    "    def get(self, key):\n",
    "        h = self.get_hash(key)\n",
    "        return self.arr[h]\n",
    "    "
   ]
  },
  {
   "cell_type": "code",
   "execution_count": 9,
   "id": "67c1ff3a",
   "metadata": {},
   "outputs": [],
   "source": [
    "t = HashTable() #object of a class in python\n",
    "t.add('march 6', 130)"
   ]
  },
  {
   "cell_type": "code",
   "execution_count": 5,
   "id": "07ff5613",
   "metadata": {
    "scrolled": false
   },
   "outputs": [],
   "source": [
    "# t.arr"
   ]
  },
  {
   "cell_type": "code",
   "execution_count": 10,
   "id": "436f5e4f",
   "metadata": {},
   "outputs": [
    {
     "data": {
      "text/plain": [
       "130"
      ]
     },
     "execution_count": 10,
     "metadata": {},
     "output_type": "execute_result"
    }
   ],
   "source": [
    "t.get('march 6')"
   ]
  },
  {
   "cell_type": "code",
   "execution_count": 17,
   "id": "27dd585e",
   "metadata": {},
   "outputs": [],
   "source": [
    "# we want dictionary like functionality (t['march 6'] = 130), hence we use built in python functions\n",
    "# of __setitem__ and __getitem__\n",
    "\n",
    "class HashTableNew:\n",
    "    def __init__(self):\n",
    "        self.MAX = 100\n",
    "        self.arr = [None for i in range(self.MAX)]\n",
    "        \n",
    "    def get_hash(self, key):\n",
    "        h = 0\n",
    "        for char in key:\n",
    "            h += ord(char) # ord gives ascii value for the chars in the key string\n",
    "        return h % self.MAX\n",
    "        \n",
    "    def __setitem__(self, key, val):\n",
    "        h = self.get_hash(key)\n",
    "        self.arr[h] = val\n",
    "        \n",
    "    def __getitem__(self, key):\n",
    "        h = self.get_hash(key)\n",
    "        return self.arr[h]\n",
    "    \n",
    "    def __delitem__(self, key):\n",
    "        h = self.get_hash(key)\n",
    "        self.arr[h] = None"
   ]
  },
  {
   "cell_type": "code",
   "execution_count": 18,
   "id": "60087a8e",
   "metadata": {},
   "outputs": [],
   "source": [
    "n = HashTableNew()"
   ]
  },
  {
   "cell_type": "code",
   "execution_count": 24,
   "id": "8511143f",
   "metadata": {},
   "outputs": [],
   "source": [
    "n['march 6'] = 130"
   ]
  },
  {
   "cell_type": "code",
   "execution_count": 21,
   "id": "7fbdb0b6",
   "metadata": {},
   "outputs": [],
   "source": [
    "n['march 2'] = 130\n",
    "n['march 1'] = 120\n",
    "n['march 4'] = 110\n",
    "n['march 7'] = 120"
   ]
  },
  {
   "cell_type": "code",
   "execution_count": 23,
   "id": "8e16ba3d",
   "metadata": {},
   "outputs": [],
   "source": [
    "# n.arr"
   ]
  },
  {
   "cell_type": "code",
   "execution_count": 19,
   "id": "42665bd8",
   "metadata": {},
   "outputs": [],
   "source": [
    "del n['march 6']"
   ]
  },
  {
   "cell_type": "code",
   "execution_count": 34,
   "id": "99af368e",
   "metadata": {},
   "outputs": [
    {
     "data": {
      "text/plain": [
       "9"
      ]
     },
     "execution_count": 34,
     "metadata": {},
     "output_type": "execute_result"
    }
   ],
   "source": [
    "t.get_hash('march 6')"
   ]
  },
  {
   "cell_type": "code",
   "execution_count": 33,
   "id": "5757af2c",
   "metadata": {},
   "outputs": [
    {
     "data": {
      "text/plain": [
       "59"
      ]
     },
     "execution_count": 33,
     "metadata": {},
     "output_type": "execute_result"
    }
   ],
   "source": [
    "t.get_hash('march 17')"
   ]
  },
  {
   "cell_type": "markdown",
   "id": "cbb6d067",
   "metadata": {},
   "source": [
    "## Dealing with collisions "
   ]
  },
  {
   "cell_type": "code",
   "execution_count": 47,
   "id": "80eeee5f",
   "metadata": {},
   "outputs": [],
   "source": [
    "class HashTableNew:\n",
    "    def __init__(self):\n",
    "        self.MAX = 10\n",
    "        self.arr = [[] for i in range(self.MAX)]\n",
    "        \n",
    "    def get_hash(self, key):\n",
    "        h = 0\n",
    "        for char in key:\n",
    "            h += ord(char) # ord gives ascii value for the chars in the key string\n",
    "        return h % self.MAX\n",
    "        \n",
    "    def __getitem__(self, key):\n",
    "        h = self.get_hash(key)\n",
    "        for element in self.arr[h]:\n",
    "            if element[0]== key:\n",
    "                return element[1]\n",
    "    \n",
    "    def __delitem__(self, key):\n",
    "        h = self.get_hash(key)\n",
    "        for idx, element in enumerate(self.arr[h]):\n",
    "            if element[0]==key:\n",
    "                del self.arr[h][idx]\n",
    "            \n",
    "        \n",
    "    def __setitem__(self, key, val):\n",
    "        h = self.get_hash(key)\n",
    "        found = False\n",
    "        for idx, element in enumerate(self.arr[h]):\n",
    "            if len(element)==2 and element[0]==key:\n",
    "                self.arr[h][idx] = (key, val)\n",
    "                found = True\n",
    "                break\n",
    "        if not found:\n",
    "            self.arr[h].append((key, val))"
   ]
  },
  {
   "cell_type": "code",
   "execution_count": 48,
   "id": "7197463f",
   "metadata": {},
   "outputs": [],
   "source": [
    "new = HashTableNew()"
   ]
  },
  {
   "cell_type": "code",
   "execution_count": 45,
   "id": "e4549419",
   "metadata": {},
   "outputs": [],
   "source": [
    "new['march 6'] = 21\n",
    "new['march 7'] = 20"
   ]
  },
  {
   "cell_type": "code",
   "execution_count": 46,
   "id": "c13e92e6",
   "metadata": {},
   "outputs": [
    {
     "data": {
      "text/plain": [
       "[[('march 7', 20)], [], [], [], [], [], [], [], [], [('march 6', 21)]]"
      ]
     },
     "execution_count": 46,
     "metadata": {},
     "output_type": "execute_result"
    }
   ],
   "source": [
    "new.arr"
   ]
  },
  {
   "cell_type": "code",
   "execution_count": null,
   "id": "abe116ee",
   "metadata": {},
   "outputs": [],
   "source": []
  }
 ],
 "metadata": {
  "kernelspec": {
   "display_name": "Python 3 (ipykernel)",
   "language": "python",
   "name": "python3"
  },
  "language_info": {
   "codemirror_mode": {
    "name": "ipython",
    "version": 3
   },
   "file_extension": ".py",
   "mimetype": "text/x-python",
   "name": "python",
   "nbconvert_exporter": "python",
   "pygments_lexer": "ipython3",
   "version": "3.9.12"
  }
 },
 "nbformat": 4,
 "nbformat_minor": 5
}
